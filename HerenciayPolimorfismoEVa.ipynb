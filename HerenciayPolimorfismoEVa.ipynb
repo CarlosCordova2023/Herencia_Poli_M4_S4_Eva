{
  "nbformat": 4,
  "nbformat_minor": 0,
  "metadata": {
    "colab": {
      "provenance": [],
      "authorship_tag": "ABX9TyPaxyGZMU74OVqZX91kTZiX",
      "include_colab_link": true
    },
    "kernelspec": {
      "name": "python3",
      "display_name": "Python 3"
    },
    "language_info": {
      "name": "python"
    }
  },
  "cells": [
    {
      "cell_type": "markdown",
      "metadata": {
        "id": "view-in-github",
        "colab_type": "text"
      },
      "source": [
        "<a href=\"https://colab.research.google.com/github/CarlosCordova2023/Herencia_Poli_M4_S4_Eva/blob/main/HerenciayPolimorfismoEVa.ipynb\" target=\"_parent\"><img src=\"https://colab.research.google.com/assets/colab-badge.svg\" alt=\"Open In Colab\"/></a>"
      ]
    },
    {
      "cell_type": "code",
      "execution_count": 2,
      "metadata": {
        "colab": {
          "base_uri": "https://localhost:8080/"
        },
        "id": "8zHP9iN11xOt",
        "outputId": "1f938e2f-7d41-4e79-b988-5b842077599d"
      },
      "outputs": [
        {
          "output_type": "stream",
          "name": "stdout",
          "text": [
            "Juan está caminando.\n",
            "Pedro está trotando.\n",
            "Luis está rodando.\n"
          ]
        }
      ],
      "source": [
        "class Persona:\n",
        "    def __init__(self, nombre):\n",
        "        self.nombre = nombre\n",
        "\n",
        "    def movimiento(self):\n",
        "        return \"caminando\"\n",
        "\n",
        "class Maratonista(Persona):\n",
        "    def movimiento(self):\n",
        "        return \"trotando\"\n",
        "\n",
        "class Ciclista(Persona):\n",
        "    def movimiento(self):\n",
        "        return \"rodando\"\n",
        "\n",
        "# Crear instancias de las clases\n",
        "persona = Persona(\"Juan\")\n",
        "maratonista = Maratonista(\"Pedro\")\n",
        "ciclista = Ciclista(\"Luis\")\n",
        "\n",
        "# Imprimir los estados de movimiento\n",
        "print(f\"{persona.nombre} está {persona.movimiento()}.\")\n",
        "print(f\"{maratonista.nombre} está {maratonista.movimiento()}.\")\n",
        "print(f\"{ciclista.nombre} está {ciclista.movimiento()}.\")\n"
      ]
    }
  ]
}